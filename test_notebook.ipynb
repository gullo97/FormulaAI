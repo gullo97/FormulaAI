import numpy as np

def test_main_ES():
    # Test case 1: n_agents = 1, n_laps = 1
    agents, track = main_ES(1, None, 1)
    assert len(agents) == 1
    assert isinstance(agents[0], AgentES)
    assert isinstance(track, np.ndarray)

    # Test case 2: n_agents = 5, n_laps = 3, track is provided
    track = np.array([0, 1, 2, 3, 4, 5])
    agents, track = main_ES(5, track, 3)
    assert len(agents) == 5
    assert isinstance(agents[0], AgentES)
    assert isinstance(track, np.ndarray)
    assert np.array_equal(track, np.array([0, 1, 2, 3, 4, 5]))

    # Test case 3: n_agents = 10, n_laps = 5, track is not provided
    agents, track = main_ES(10, None, 5)
    assert len(agents) == 10
    assert isinstance(agents[0], AgentES)
    assert isinstance(track, np.ndarray)

    print("All tests passed!")

test_main_ES()